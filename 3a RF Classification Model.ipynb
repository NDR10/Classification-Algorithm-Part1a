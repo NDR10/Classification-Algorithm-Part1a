{
 "cells": [
  {
   "cell_type": "markdown",
   "id": "df58fc4d-570d-4377-a7d7-2856e60ef96a",
   "metadata": {},
   "source": [
    "# Classification Codes Using RF"
   ]
  },
  {
   "cell_type": "code",
   "execution_count": null,
   "id": "a040f4f4-1503-4242-b64b-6adb44ac0631",
   "metadata": {},
   "outputs": [],
   "source": [
    "# Import libraries\n",
    "import sklearn\n",
    "import pandas as pd\n",
    "import numpy as np\n",
    "import pickle\n",
    "import warnings"
   ]
  },
  {
   "cell_type": "code",
   "execution_count": null,
   "id": "1e64b619-03fa-4894-abd8-4c3cd7b3002d",
   "metadata": {},
   "outputs": [],
   "source": [
    "# Ignore warnings\n",
    "warnings.filterwarnings(\"ignore\")"
   ]
  },
  {
   "cell_type": "code",
   "execution_count": null,
   "id": "01549e86-c5cf-496a-b5a0-77c343e8b650",
   "metadata": {},
   "outputs": [],
   "source": [
    "# Import the dataset from the table in csv format\n",
    "dataset = pd.read_csv(\"Social_Network_Ads.csv\")\n",
    "dataset"
   ]
  },
  {
   "cell_type": "code",
   "execution_count": null,
   "id": "3046e977-55a5-41ea-954e-53bfa869cdca",
   "metadata": {},
   "outputs": [],
   "source": [
    "# Convert alphabetical values in the dataset into numerical values\n",
    "dataset = pd.get_dummies(dataset, dtype = int, drop_first = True)\n",
    "dataset"
   ]
  },
  {
   "cell_type": "code",
   "execution_count": null,
   "id": "25870481-6dbc-4862-a9a5-aaceb265b715",
   "metadata": {},
   "outputs": [],
   "source": [
    "# Exclude the colum named user ID because it is a redundant variable and does not contribute to the solution \n",
    "dataset = dataset.drop('User ID', axis = 1)"
   ]
  },
  {
   "cell_type": "code",
   "execution_count": null,
   "id": "99ac6879-0316-4168-aa14-5df14d16fd55",
   "metadata": {},
   "outputs": [],
   "source": [
    "# Find the number of output variables classified as O and 1\n",
    "dataset['Purchased'].value_counts()"
   ]
  },
  {
   "cell_type": "code",
   "execution_count": null,
   "id": "b77e49e0-2fcf-49bb-accd-22b8a8d09fd2",
   "metadata": {},
   "outputs": [],
   "source": [
    "# Get the headings of the dataset\n",
    "dataset.columns"
   ]
  },
  {
   "cell_type": "code",
   "execution_count": null,
   "id": "e6e32fa7-5727-44ae-a9c6-e0f39bb47e44",
   "metadata": {},
   "outputs": [],
   "source": [
    "# Specify the input values or independent variables in the dataset\n",
    "Input = dataset[['Age', 'EstimatedSalary', 'Gender_Male']]\n",
    "Input"
   ]
  },
  {
   "cell_type": "code",
   "execution_count": null,
   "id": "3928c843-7416-4ec1-bf01-7b3aa7194335",
   "metadata": {},
   "outputs": [],
   "source": [
    "# Find the number of different input variables and the maximum count of the input variables\n",
    "Input.shape"
   ]
  },
  {
   "cell_type": "code",
   "execution_count": null,
   "id": "84beeb5d-cad0-4a93-877e-521a8a2a4b5e",
   "metadata": {},
   "outputs": [],
   "source": [
    "# Specify the output values or dependent variables in the dataset\n",
    "Output = dataset[['Purchased']]\n",
    "Output"
   ]
  },
  {
   "cell_type": "code",
   "execution_count": null,
   "id": "068ed76b-c6db-4b1f-b207-d4e425b4f59c",
   "metadata": {},
   "outputs": [],
   "source": [
    "# Model creation and fit the model\n",
    "from sklearn.ensemble import RandomForestClassifier as RFC\n",
    "Classifier = RFC(n_estimators=50, random_state = 0)\n",
    "Classifier = Classifier.fit(Input, Output)"
   ]
  },
  {
   "cell_type": "code",
   "execution_count": null,
   "id": "a8950d57-7aa9-47e1-9175-f065e5658287",
   "metadata": {},
   "outputs": [],
   "source": [
    "# Predict output using the data from input variables\n",
    "Y_pred = Classifier.predict(Input)"
   ]
  },
  {
   "cell_type": "code",
   "execution_count": null,
   "id": "eacf878c-52a7-4358-af8b-548c512c5e5c",
   "metadata": {},
   "outputs": [],
   "source": [
    "# Generate confusion matrix from output variables\n",
    "from sklearn.metrics import confusion_matrix as cm\n",
    "cm = cm(Output, Y_pred)\n",
    "print (cm)"
   ]
  },
  {
   "cell_type": "code",
   "execution_count": null,
   "id": "ab409061-b84f-4c23-a7a6-fe5c26842ba6",
   "metadata": {},
   "outputs": [],
   "source": [
    "# Generate report of the confusion matrix\n",
    "from sklearn.metrics import classification_report as cr\n",
    "cr = cr(Output, Y_pred)\n",
    "print (cr)"
   ]
  },
  {
   "cell_type": "code",
   "execution_count": null,
   "id": "97b63e53-2caa-4d62-90b7-e604ca7407a8",
   "metadata": {},
   "outputs": [],
   "source": [
    "filename = \"Pythoncode_RFC.sav\"\n",
    "pickle.dump (Classifier, open(filename, \"wb\"))"
   ]
  },
  {
   "cell_type": "code",
   "execution_count": null,
   "id": "1dff5f7c-8385-44d6-a12d-cd7a562845b5",
   "metadata": {},
   "outputs": [],
   "source": [
    "load_model=pickle.load(open(\"Pythoncode_RFC.sav\", \"rb\"))\n",
    "Result = load_model.predict([[40,30000,1]])\n",
    "Result"
   ]
  },
  {
   "cell_type": "code",
   "execution_count": null,
   "id": "8e60787d-38ea-4337-becd-0c7e19634599",
   "metadata": {},
   "outputs": [],
   "source": []
  }
 ],
 "metadata": {
  "kernelspec": {
   "display_name": "Python 3 (ipykernel)",
   "language": "python",
   "name": "python3"
  },
  "language_info": {
   "codemirror_mode": {
    "name": "ipython",
    "version": 3
   },
   "file_extension": ".py",
   "mimetype": "text/x-python",
   "name": "python",
   "nbconvert_exporter": "python",
   "pygments_lexer": "ipython3",
   "version": "3.12.4"
  }
 },
 "nbformat": 4,
 "nbformat_minor": 5
}
